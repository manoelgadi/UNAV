{
 "cells": [
  {
   "cell_type": "code",
   "execution_count": 1,
   "id": "4d021d96",
   "metadata": {},
   "outputs": [],
   "source": [
    "import riesgos"
   ]
  },
  {
   "cell_type": "code",
   "execution_count": 2,
   "id": "a1c57733",
   "metadata": {},
   "outputs": [
    {
     "data": {
      "text/plain": [
       "1.0488220854273658"
      ]
     },
     "execution_count": 2,
     "metadata": {},
     "output_type": "execute_result"
    }
   ],
   "source": [
    "riesgos.calcula_beta()"
   ]
  },
  {
   "cell_type": "code",
   "execution_count": 3,
   "id": "b195d231",
   "metadata": {},
   "outputs": [
    {
     "name": "stdout",
     "output_type": "stream",
     "text": [
      "Help on function calcula_beta in module riesgos:\n",
      "\n",
      "calcula_beta(ticker_symbol='TEF.MC', ref_index='^IBEX')\n",
      "    Esta función devuelve la beta mensual de 5 años del mercado entre una acción y un índice de referencia.\n",
      "\n"
     ]
    }
   ],
   "source": [
    "help(riesgos.calcula_beta)"
   ]
  },
  {
   "cell_type": "code",
   "execution_count": 4,
   "id": "c866e9e6",
   "metadata": {},
   "outputs": [
    {
     "data": {
      "text/plain": [
       "'Problema de conexión con Yahoo. Hablar con Tecnología.'"
      ]
     },
     "execution_count": 4,
     "metadata": {},
     "output_type": "execute_result"
    }
   ],
   "source": [
    "riesgos.calcula_beta(\"XXUU\")"
   ]
  },
  {
   "cell_type": "code",
   "execution_count": 6,
   "id": "7ccf0479",
   "metadata": {},
   "outputs": [
    {
     "data": {
      "text/plain": [
       "1.06499537045935"
      ]
     },
     "execution_count": 6,
     "metadata": {},
     "output_type": "execute_result"
    }
   ],
   "source": [
    "riesgos.calcula_beta(\"GOOG\", \"SPY\")"
   ]
  },
  {
   "cell_type": "code",
   "execution_count": null,
   "id": "a7a79e4b",
   "metadata": {},
   "outputs": [],
   "source": []
  }
 ],
 "metadata": {
  "kernelspec": {
   "display_name": "Python 3 (ipykernel)",
   "language": "python",
   "name": "python3"
  },
  "language_info": {
   "codemirror_mode": {
    "name": "ipython",
    "version": 3
   },
   "file_extension": ".py",
   "mimetype": "text/x-python",
   "name": "python",
   "nbconvert_exporter": "python",
   "pygments_lexer": "ipython3",
   "version": "3.9.7"
  }
 },
 "nbformat": 4,
 "nbformat_minor": 5
}
