{
 "cells": [
  {
   "cell_type": "code",
   "execution_count": 1,
   "id": "69d5cff0",
   "metadata": {},
   "outputs": [],
   "source": [
    "from sqlalchemy.ext.declarative import declarative_base"
   ]
  },
  {
   "cell_type": "code",
   "execution_count": 2,
   "id": "3f42e970",
   "metadata": {},
   "outputs": [],
   "source": [
    "Base = declarative_base()"
   ]
  },
  {
   "cell_type": "code",
   "execution_count": 3,
   "id": "dd3f806f",
   "metadata": {},
   "outputs": [],
   "source": [
    "from sqlalchemy import Integer, Column, String\n",
    "class Usuario(Base):\n",
    "    __tablename__ = 'usuarios'\n",
    "    id = Column(Integer, primary_key=True)\n",
    "    nombre = Column(String(15), unique=True)\n",
    "    email = Column(String(50), unique=True)\n",
    "    password = Column(String(80))"
   ]
  },
  {
   "cell_type": "code",
   "execution_count": 4,
   "id": "2892f61e",
   "metadata": {},
   "outputs": [],
   "source": [
    "from sqlalchemy import create_engine"
   ]
  },
  {
   "cell_type": "code",
   "execution_count": 5,
   "id": "27cd8ada",
   "metadata": {},
   "outputs": [],
   "source": [
    "engine = create_engine('sqlite:///./database.db')"
   ]
  },
  {
   "cell_type": "code",
   "execution_count": 6,
   "id": "a19aa8dd",
   "metadata": {},
   "outputs": [],
   "source": [
    "Base.metadata.create_all(engine)"
   ]
  },
  {
   "cell_type": "code",
   "execution_count": 7,
   "id": "144eb36b",
   "metadata": {},
   "outputs": [],
   "source": [
    "from sqlalchemy.orm import sessionmaker\n",
    "DBSession = sessionmaker(bind = engine)\n",
    "session = DBSession()"
   ]
  },
  {
   "cell_type": "code",
   "execution_count": 8,
   "id": "912d1abb",
   "metadata": {},
   "outputs": [],
   "source": [
    "u1 = Usuario(nombre = 'Paula', email = 'paula.maudos@pwc.com', password = '1234')"
   ]
  },
  {
   "cell_type": "code",
   "execution_count": 9,
   "id": "3749417e",
   "metadata": {},
   "outputs": [],
   "source": [
    "session.add(u1)\n",
    "session.commit()"
   ]
  },
  {
   "cell_type": "code",
   "execution_count": 10,
   "id": "c891d988",
   "metadata": {},
   "outputs": [],
   "source": [
    "u1.nombre = 'Paula Maudos'\n",
    "session.commit()"
   ]
  },
  {
   "cell_type": "code",
   "execution_count": 11,
   "id": "de7e086d",
   "metadata": {},
   "outputs": [],
   "source": [
    "session.add(Usuario(nombre = 'Manoel', email = 'manoelgadi@gmail.com', password = '1234'));session.commit()"
   ]
  },
  {
   "cell_type": "code",
   "execution_count": 13,
   "id": "72aff879",
   "metadata": {},
   "outputs": [],
   "source": [
    "u2 = session.query(Usuario).filter(Usuario.nombre == 'Manoel').first()"
   ]
  },
  {
   "cell_type": "code",
   "execution_count": 14,
   "id": "5977c926",
   "metadata": {},
   "outputs": [],
   "source": [
    "u2.nombre = u2.nombre + ' Gadi'; session.commit()"
   ]
  },
  {
   "cell_type": "code",
   "execution_count": 15,
   "id": "36ecc3d7",
   "metadata": {},
   "outputs": [
    {
     "name": "stdout",
     "output_type": "stream",
     "text": [
      "Paula Maudos\n",
      "Manoel Gadi\n"
     ]
    }
   ],
   "source": [
    "for usuario in session.query(Usuario).all():\n",
    "    print (usuario.nombre)"
   ]
  },
  {
   "cell_type": "code",
   "execution_count": 16,
   "id": "c45591b1",
   "metadata": {},
   "outputs": [],
   "source": [
    "session.delete(u2); session.commit()"
   ]
  },
  {
   "cell_type": "code",
   "execution_count": 17,
   "id": "82a4cf30",
   "metadata": {},
   "outputs": [],
   "source": [
    "session.close()"
   ]
  },
  {
   "cell_type": "code",
   "execution_count": null,
   "id": "1e39d413",
   "metadata": {},
   "outputs": [],
   "source": []
  }
 ],
 "metadata": {
  "kernelspec": {
   "display_name": "Python 3 (ipykernel)",
   "language": "python",
   "name": "python3"
  },
  "language_info": {
   "codemirror_mode": {
    "name": "ipython",
    "version": 3
   },
   "file_extension": ".py",
   "mimetype": "text/x-python",
   "name": "python",
   "nbconvert_exporter": "python",
   "pygments_lexer": "ipython3",
   "version": "3.9.7"
  }
 },
 "nbformat": 4,
 "nbformat_minor": 5
}
