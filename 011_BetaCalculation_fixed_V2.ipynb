{
 "cells": [
  {
   "cell_type": "markdown",
   "metadata": {},
   "source": [
    "<img src=\"UNAV.png\" width=100 height=100 align=\"right\">\n",
    "\n",
    "# Python Ecosystem -  Trabajando con ficheros de datos - Numpy & Pandas\n",
    "\n",
    "<img src=\"pwc_logo.png\" width=120 height=120 align=\"right\">"
   ]
  },
  {
   "cell_type": "markdown",
   "metadata": {},
   "source": [
    "<img src=\"profile_manoelgadi.png\" width=100 height=100 align=\"right\">\n",
    "\n",
    "Author: Prof. Manoel Gadi\n",
    "\n",
    "Contact: manoelgadi@gmail.com\n",
    "\n",
    "Teaching Web: http://mfalonso.pythonanywhere.com\n",
    "\n",
    "Last revision: 18/June/2019"
   ]
  },
  {
   "cell_type": "markdown",
   "metadata": {},
   "source": [
    "Date: 07/February/2018\n",
    "    \n",
    "Author: Prof. Manoel Gadi - http://mfalonso.pythonanywhere.com/ - https://www.linkedin.com/in/manoel-gadi-97821213/\n"
   ]
  },
  {
   "cell_type": "markdown",
   "metadata": {},
   "source": [
    "## Parte 2: Trabajando con Data Frames para calcular la Beta de mercado"
   ]
  },
  {
   "cell_type": "markdown",
   "metadata": {},
   "source": [
    "\n",
    "<img src=\"BetaCalculation.png\" align=\"center\">\n",
    "\n",
    "\n",
    "\n",
    "\n",
    "* Referencia 1: http://gouthamanbalaraman.com/blog/calculating-stock-beta.html\n",
    "* Referencia 2: http://www.investopedia.com/ask/answers/070615/what-formula-calculating-beta.asp"
   ]
  },
  {
   "cell_type": "code",
   "execution_count": 1,
   "metadata": {},
   "outputs": [
    {
     "name": "stdout",
     "output_type": "stream",
     "text": [
      "Collecting pandas_datareader\n",
      "  Downloading pandas_datareader-0.10.0-py3-none-any.whl (109 kB)\n",
      "Requirement already satisfied: requests>=2.19.0 in c:\\users\\incompany\\anaconda3\\lib\\site-packages (from pandas_datareader) (2.26.0)\n",
      "Requirement already satisfied: pandas>=0.23 in c:\\users\\incompany\\anaconda3\\lib\\site-packages (from pandas_datareader) (1.3.4)\n",
      "Requirement already satisfied: lxml in c:\\users\\incompany\\anaconda3\\lib\\site-packages (from pandas_datareader) (4.6.3)\n",
      "Requirement already satisfied: numpy>=1.17.3 in c:\\users\\incompany\\anaconda3\\lib\\site-packages (from pandas>=0.23->pandas_datareader) (1.20.3)\n",
      "Requirement already satisfied: pytz>=2017.3 in c:\\users\\incompany\\anaconda3\\lib\\site-packages (from pandas>=0.23->pandas_datareader) (2021.3)\n",
      "Requirement already satisfied: python-dateutil>=2.7.3 in c:\\users\\incompany\\anaconda3\\lib\\site-packages (from pandas>=0.23->pandas_datareader) (2.8.2)\n",
      "Requirement already satisfied: six>=1.5 in c:\\users\\incompany\\anaconda3\\lib\\site-packages (from python-dateutil>=2.7.3->pandas>=0.23->pandas_datareader) (1.16.0)\n",
      "Requirement already satisfied: idna<4,>=2.5 in c:\\users\\incompany\\anaconda3\\lib\\site-packages (from requests>=2.19.0->pandas_datareader) (3.2)\n",
      "Requirement already satisfied: charset-normalizer~=2.0.0 in c:\\users\\incompany\\anaconda3\\lib\\site-packages (from requests>=2.19.0->pandas_datareader) (2.0.4)\n",
      "Requirement already satisfied: urllib3<1.27,>=1.21.1 in c:\\users\\incompany\\anaconda3\\lib\\site-packages (from requests>=2.19.0->pandas_datareader) (1.26.7)\n",
      "Requirement already satisfied: certifi>=2017.4.17 in c:\\users\\incompany\\anaconda3\\lib\\site-packages (from requests>=2.19.0->pandas_datareader) (2021.10.8)\n",
      "Installing collected packages: pandas-datareader\n",
      "Successfully installed pandas-datareader-0.10.0\n"
     ]
    }
   ],
   "source": [
    "!pip install pandas_datareader"
   ]
  },
  {
   "cell_type": "code",
   "execution_count": 2,
   "metadata": {},
   "outputs": [
    {
     "name": "stdout",
     "output_type": "stream",
     "text": [
      "Collecting fix_yahoo_finance\n",
      "  Downloading fix-yahoo-finance-0.1.37.tar.gz (6.3 kB)\n",
      "  Downloading fix-yahoo-finance-0.1.36.tar.gz (6.2 kB)\n",
      "  Downloading fix-yahoo-finance-0.1.35.tar.gz (11 kB)\n",
      "Requirement already satisfied: pandas>=0.24 in c:\\users\\incompany\\anaconda3\\lib\\site-packages (from fix_yahoo_finance) (1.3.4)\n",
      "Requirement already satisfied: numpy>=1.15 in c:\\users\\incompany\\anaconda3\\lib\\site-packages (from fix_yahoo_finance) (1.20.3)\n",
      "Requirement already satisfied: requests>=2.20 in c:\\users\\incompany\\anaconda3\\lib\\site-packages (from fix_yahoo_finance) (2.26.0)\n",
      "Collecting multitasking>=0.0.7\n",
      "  Downloading multitasking-0.0.10.tar.gz (8.2 kB)\n",
      "Requirement already satisfied: python-dateutil>=2.7.3 in c:\\users\\incompany\\anaconda3\\lib\\site-packages (from pandas>=0.24->fix_yahoo_finance) (2.8.2)\n",
      "Requirement already satisfied: pytz>=2017.3 in c:\\users\\incompany\\anaconda3\\lib\\site-packages (from pandas>=0.24->fix_yahoo_finance) (2021.3)\n",
      "Requirement already satisfied: six>=1.5 in c:\\users\\incompany\\anaconda3\\lib\\site-packages (from python-dateutil>=2.7.3->pandas>=0.24->fix_yahoo_finance) (1.16.0)\n",
      "Requirement already satisfied: charset-normalizer~=2.0.0 in c:\\users\\incompany\\anaconda3\\lib\\site-packages (from requests>=2.20->fix_yahoo_finance) (2.0.4)\n",
      "Requirement already satisfied: urllib3<1.27,>=1.21.1 in c:\\users\\incompany\\anaconda3\\lib\\site-packages (from requests>=2.20->fix_yahoo_finance) (1.26.7)\n",
      "Requirement already satisfied: idna<4,>=2.5 in c:\\users\\incompany\\anaconda3\\lib\\site-packages (from requests>=2.20->fix_yahoo_finance) (3.2)\n",
      "Requirement already satisfied: certifi>=2017.4.17 in c:\\users\\incompany\\anaconda3\\lib\\site-packages (from requests>=2.20->fix_yahoo_finance) (2021.10.8)\n",
      "Building wheels for collected packages: fix-yahoo-finance, multitasking\n",
      "  Building wheel for fix-yahoo-finance (setup.py): started\n",
      "  Building wheel for fix-yahoo-finance (setup.py): finished with status 'done'\n",
      "  Created wheel for fix-yahoo-finance: filename=fix_yahoo_finance-0.1.35-py3-none-any.whl size=12443 sha256=38a333bc09572c4d20f5ed2a57e91cb158d32df60bb14725235d9eb536ff1b31\n",
      "  Stored in directory: c:\\users\\incompany\\appdata\\local\\pip\\cache\\wheels\\ec\\8b\\42\\b4b6c3019ecbb6e352f974109b8c971bdf7f9dba0278997aca\n",
      "  Building wheel for multitasking (setup.py): started\n",
      "  Building wheel for multitasking (setup.py): finished with status 'done'\n",
      "  Created wheel for multitasking: filename=multitasking-0.0.10-py3-none-any.whl size=8500 sha256=9234c86f7099beda7aa8e85c41fa371af8dc001efd12687bcfa249fa5a4656de\n",
      "  Stored in directory: c:\\users\\incompany\\appdata\\local\\pip\\cache\\wheels\\f2\\b5\\2c\\59ba95dcf854e542944c75fe3da584e4e3833b319735a0546c\n",
      "Successfully built fix-yahoo-finance multitasking\n",
      "Installing collected packages: multitasking, fix-yahoo-finance\n",
      "Successfully installed fix-yahoo-finance-0.1.35 multitasking-0.0.10\n"
     ]
    },
    {
     "name": "stderr",
     "output_type": "stream",
     "text": [
      "    ERROR: Command errored out with exit status 1:\n",
      "     command: 'C:\\Users\\incompany\\Anaconda3\\python.exe' -c 'import io, os, sys, setuptools, tokenize; sys.argv[0] = '\"'\"'C:\\\\Users\\\\incompany\\\\AppData\\\\Local\\\\Temp\\\\pip-install-5g0g16kz\\\\fix-yahoo-finance_662357f2d5ed474f8b76262f6dacc6fd\\\\setup.py'\"'\"'; __file__='\"'\"'C:\\\\Users\\\\incompany\\\\AppData\\\\Local\\\\Temp\\\\pip-install-5g0g16kz\\\\fix-yahoo-finance_662357f2d5ed474f8b76262f6dacc6fd\\\\setup.py'\"'\"';f = getattr(tokenize, '\"'\"'open'\"'\"', open)(__file__) if os.path.exists(__file__) else io.StringIO('\"'\"'from setuptools import setup; setup()'\"'\"');code = f.read().replace('\"'\"'\\r\\n'\"'\"', '\"'\"'\\n'\"'\"');f.close();exec(compile(code, __file__, '\"'\"'exec'\"'\"'))' egg_info --egg-base 'C:\\Users\\incompany\\AppData\\Local\\Temp\\pip-pip-egg-info-d9yl0gqj'\n",
      "         cwd: C:\\Users\\incompany\\AppData\\Local\\Temp\\pip-install-5g0g16kz\\fix-yahoo-finance_662357f2d5ed474f8b76262f6dacc6fd\\\n",
      "    Complete output (7 lines):\n",
      "    Traceback (most recent call last):\n",
      "      File \"<string>\", line 1, in <module>\n",
      "      File \"C:\\Users\\incompany\\AppData\\Local\\Temp\\pip-install-5g0g16kz\\fix-yahoo-finance_662357f2d5ed474f8b76262f6dacc6fd\\setup.py\", line 19, in <module>\n",
      "        from fix_yahoo_finance import __version__\n",
      "      File \"C:\\Users\\incompany\\AppData\\Local\\Temp\\pip-install-5g0g16kz\\fix-yahoo-finance_662357f2d5ed474f8b76262f6dacc6fd\\fix_yahoo_finance\\__init__.py\", line 22, in <module>\n",
      "        import yfinance\n",
      "    ModuleNotFoundError: No module named 'yfinance'\n",
      "    ----------------------------------------\n",
      "WARNING: Discarding https://files.pythonhosted.org/packages/a5/f3/aba3b563452faaea71b4161754991e3143751ec9141d83c4bce05992332a/fix-yahoo-finance-0.1.37.tar.gz#sha256=dd337e30907c5625937ca001a205fb4de12a04c12ddc85c90356b4546e651561 (from https://pypi.org/simple/fix-yahoo-finance/). Command errored out with exit status 1: python setup.py egg_info Check the logs for full command output.\n",
      "    ERROR: Command errored out with exit status 1:\n",
      "     command: 'C:\\Users\\incompany\\Anaconda3\\python.exe' -c 'import io, os, sys, setuptools, tokenize; sys.argv[0] = '\"'\"'C:\\\\Users\\\\incompany\\\\AppData\\\\Local\\\\Temp\\\\pip-install-5g0g16kz\\\\fix-yahoo-finance_2d8d1a96b2704d5a9311dfbd8a6deef6\\\\setup.py'\"'\"'; __file__='\"'\"'C:\\\\Users\\\\incompany\\\\AppData\\\\Local\\\\Temp\\\\pip-install-5g0g16kz\\\\fix-yahoo-finance_2d8d1a96b2704d5a9311dfbd8a6deef6\\\\setup.py'\"'\"';f = getattr(tokenize, '\"'\"'open'\"'\"', open)(__file__) if os.path.exists(__file__) else io.StringIO('\"'\"'from setuptools import setup; setup()'\"'\"');code = f.read().replace('\"'\"'\\r\\n'\"'\"', '\"'\"'\\n'\"'\"');f.close();exec(compile(code, __file__, '\"'\"'exec'\"'\"'))' egg_info --egg-base 'C:\\Users\\incompany\\AppData\\Local\\Temp\\pip-pip-egg-info-e2e6mmnl'\n",
      "         cwd: C:\\Users\\incompany\\AppData\\Local\\Temp\\pip-install-5g0g16kz\\fix-yahoo-finance_2d8d1a96b2704d5a9311dfbd8a6deef6\\\n",
      "    Complete output (7 lines):\n",
      "    Traceback (most recent call last):\n",
      "      File \"<string>\", line 1, in <module>\n",
      "      File \"C:\\Users\\incompany\\AppData\\Local\\Temp\\pip-install-5g0g16kz\\fix-yahoo-finance_2d8d1a96b2704d5a9311dfbd8a6deef6\\setup.py\", line 12, in <module>\n",
      "        from fix_yahoo_finance import __version__\n",
      "      File \"C:\\Users\\incompany\\AppData\\Local\\Temp\\pip-install-5g0g16kz\\fix-yahoo-finance_2d8d1a96b2704d5a9311dfbd8a6deef6\\fix_yahoo_finance\\__init__.py\", line 22, in <module>\n",
      "        import yfinance\n",
      "    ModuleNotFoundError: No module named 'yfinance'\n",
      "    ----------------------------------------\n",
      "WARNING: Discarding https://files.pythonhosted.org/packages/f9/df/e97d13ecf7b4dcb358a73606c098faecf793da05d9025608a8a74ab45bd3/fix-yahoo-finance-0.1.36.tar.gz#sha256=50ceef149d3710e652f51cadfe8e3bfb96eb98d61c31ae924c7d44a4c1a9766f (from https://pypi.org/simple/fix-yahoo-finance/). Command errored out with exit status 1: python setup.py egg_info Check the logs for full command output.\n"
     ]
    }
   ],
   "source": [
    "!pip install fix_yahoo_finance"
   ]
  },
  {
   "cell_type": "code",
   "execution_count": 3,
   "metadata": {},
   "outputs": [],
   "source": [
    "import pandas_datareader.data as web\n",
    "import fix_yahoo_finance as yf\n",
    "import datetime\n",
    "import numpy as np\n",
    "import pandas as pd"
   ]
  },
  {
   "cell_type": "markdown",
   "metadata": {},
   "source": [
    "### Descargando datos historicos\n",
    "\n",
    "Capturando datos de serie historica de 5 años para la acción de Telefónica (TEF.MC) y para el índice IBEX 35"
   ]
  },
  {
   "cell_type": "code",
   "execution_count": 4,
   "metadata": {},
   "outputs": [],
   "source": [
    "fecha_final =   datetime.datetime(2019,12, 31, 0, 0, 0, 0)\n",
    "fecha_inicial = fecha_final - datetime.timedelta(days=5*365)"
   ]
  },
  {
   "cell_type": "code",
   "execution_count": 5,
   "metadata": {},
   "outputs": [],
   "source": [
    "df = web.get_data_yahoo(\"SPY\", start=fecha_inicial, end=fecha_final)"
   ]
  },
  {
   "cell_type": "code",
   "execution_count": 6,
   "metadata": {},
   "outputs": [
    {
     "data": {
      "text/plain": [
       "(datetime.datetime(2019, 12, 31, 0, 0), datetime.datetime(2015, 1, 1, 0, 0))"
      ]
     },
     "execution_count": 6,
     "metadata": {},
     "output_type": "execute_result"
    }
   ],
   "source": [
    "fecha_final, fecha_inicial"
   ]
  },
  {
   "cell_type": "code",
   "execution_count": 7,
   "metadata": {},
   "outputs": [
    {
     "data": {
      "text/plain": [
       "('TEF.MC', '^IBEX')"
      ]
     },
     "execution_count": 7,
     "metadata": {},
     "output_type": "execute_result"
    }
   ],
   "source": [
    "ticker_symbol = 'TEF.MC'\n",
    "ref_index = '^IBEX'\n",
    "\n",
    "ticker_symbol, ref_index"
   ]
  },
  {
   "cell_type": "markdown",
   "metadata": {},
   "source": [
    "Leyendo los datos de la API de https://finance.yahoo.com/?guccounter=1"
   ]
  },
  {
   "cell_type": "code",
   "execution_count": 8,
   "metadata": {},
   "outputs": [],
   "source": [
    "df_stock = web.get_data_yahoo(ticker_symbol,fecha_inicial,fecha_final)"
   ]
  },
  {
   "cell_type": "code",
   "execution_count": 9,
   "metadata": {},
   "outputs": [
    {
     "data": {
      "text/html": [
       "<div>\n",
       "<style scoped>\n",
       "    .dataframe tbody tr th:only-of-type {\n",
       "        vertical-align: middle;\n",
       "    }\n",
       "\n",
       "    .dataframe tbody tr th {\n",
       "        vertical-align: top;\n",
       "    }\n",
       "\n",
       "    .dataframe thead th {\n",
       "        text-align: right;\n",
       "    }\n",
       "</style>\n",
       "<table border=\"1\" class=\"dataframe\">\n",
       "  <thead>\n",
       "    <tr style=\"text-align: right;\">\n",
       "      <th></th>\n",
       "      <th>High</th>\n",
       "      <th>Low</th>\n",
       "      <th>Open</th>\n",
       "      <th>Close</th>\n",
       "      <th>Volume</th>\n",
       "      <th>Adj Close</th>\n",
       "    </tr>\n",
       "    <tr>\n",
       "      <th>Date</th>\n",
       "      <th></th>\n",
       "      <th></th>\n",
       "      <th></th>\n",
       "      <th></th>\n",
       "      <th></th>\n",
       "      <th></th>\n",
       "    </tr>\n",
       "  </thead>\n",
       "  <tbody>\n",
       "    <tr>\n",
       "      <th>2015-01-02</th>\n",
       "      <td>11.903631</td>\n",
       "      <td>11.641633</td>\n",
       "      <td>11.864085</td>\n",
       "      <td>11.750387</td>\n",
       "      <td>24004852.0</td>\n",
       "      <td>7.400207</td>\n",
       "    </tr>\n",
       "    <tr>\n",
       "      <th>2015-01-05</th>\n",
       "      <td>11.765217</td>\n",
       "      <td>11.295597</td>\n",
       "      <td>11.641633</td>\n",
       "      <td>11.354918</td>\n",
       "      <td>31002826.0</td>\n",
       "      <td>7.151144</td>\n",
       "    </tr>\n",
       "    <tr>\n",
       "      <th>2015-01-06</th>\n",
       "      <td>11.419181</td>\n",
       "      <td>11.206616</td>\n",
       "      <td>11.414238</td>\n",
       "      <td>11.241220</td>\n",
       "      <td>29842211.0</td>\n",
       "      <td>7.079541</td>\n",
       "    </tr>\n",
       "    <tr>\n",
       "      <th>2015-01-07</th>\n",
       "      <td>11.409295</td>\n",
       "      <td>11.181900</td>\n",
       "      <td>11.295597</td>\n",
       "      <td>11.246163</td>\n",
       "      <td>22330027.0</td>\n",
       "      <td>7.082653</td>\n",
       "    </tr>\n",
       "    <tr>\n",
       "      <th>2015-01-08</th>\n",
       "      <td>11.552652</td>\n",
       "      <td>11.295597</td>\n",
       "      <td>11.399408</td>\n",
       "      <td>11.522992</td>\n",
       "      <td>20183081.0</td>\n",
       "      <td>7.256995</td>\n",
       "    </tr>\n",
       "  </tbody>\n",
       "</table>\n",
       "</div>"
      ],
      "text/plain": [
       "                 High        Low       Open      Close      Volume  Adj Close\n",
       "Date                                                                         \n",
       "2015-01-02  11.903631  11.641633  11.864085  11.750387  24004852.0   7.400207\n",
       "2015-01-05  11.765217  11.295597  11.641633  11.354918  31002826.0   7.151144\n",
       "2015-01-06  11.419181  11.206616  11.414238  11.241220  29842211.0   7.079541\n",
       "2015-01-07  11.409295  11.181900  11.295597  11.246163  22330027.0   7.082653\n",
       "2015-01-08  11.552652  11.295597  11.399408  11.522992  20183081.0   7.256995"
      ]
     },
     "execution_count": 9,
     "metadata": {},
     "output_type": "execute_result"
    }
   ],
   "source": [
    "df_stock.head()"
   ]
  },
  {
   "cell_type": "markdown",
   "metadata": {},
   "source": [
    "Haciendo lo mismo para el indice de referencia"
   ]
  },
  {
   "cell_type": "code",
   "execution_count": 10,
   "metadata": {},
   "outputs": [],
   "source": [
    "df_index = web.get_data_yahoo(ref_index,fecha_inicial,fecha_final)"
   ]
  },
  {
   "cell_type": "code",
   "execution_count": 11,
   "metadata": {},
   "outputs": [
    {
     "data": {
      "text/html": [
       "<div>\n",
       "<style scoped>\n",
       "    .dataframe tbody tr th:only-of-type {\n",
       "        vertical-align: middle;\n",
       "    }\n",
       "\n",
       "    .dataframe tbody tr th {\n",
       "        vertical-align: top;\n",
       "    }\n",
       "\n",
       "    .dataframe thead th {\n",
       "        text-align: right;\n",
       "    }\n",
       "</style>\n",
       "<table border=\"1\" class=\"dataframe\">\n",
       "  <thead>\n",
       "    <tr style=\"text-align: right;\">\n",
       "      <th></th>\n",
       "      <th>High</th>\n",
       "      <th>Low</th>\n",
       "      <th>Open</th>\n",
       "      <th>Close</th>\n",
       "      <th>Volume</th>\n",
       "      <th>Adj Close</th>\n",
       "    </tr>\n",
       "    <tr>\n",
       "      <th>Date</th>\n",
       "      <th></th>\n",
       "      <th></th>\n",
       "      <th></th>\n",
       "      <th></th>\n",
       "      <th></th>\n",
       "      <th></th>\n",
       "    </tr>\n",
       "  </thead>\n",
       "  <tbody>\n",
       "    <tr>\n",
       "      <th>2015-01-02</th>\n",
       "      <td>10440.299805</td>\n",
       "      <td>10232.299805</td>\n",
       "      <td>10386.700195</td>\n",
       "      <td>10350.799805</td>\n",
       "      <td>220239700.0</td>\n",
       "      <td>10350.789062</td>\n",
       "    </tr>\n",
       "    <tr>\n",
       "      <th>2015-01-05</th>\n",
       "      <td>10390.799805</td>\n",
       "      <td>9977.799805</td>\n",
       "      <td>10267.200195</td>\n",
       "      <td>9993.299805</td>\n",
       "      <td>299610800.0</td>\n",
       "      <td>9993.290039</td>\n",
       "    </tr>\n",
       "    <tr>\n",
       "      <th>2015-01-06</th>\n",
       "      <td>10060.799805</td>\n",
       "      <td>9871.099609</td>\n",
       "      <td>10040.700195</td>\n",
       "      <td>9871.099609</td>\n",
       "      <td>282855400.0</td>\n",
       "      <td>9871.089844</td>\n",
       "    </tr>\n",
       "    <tr>\n",
       "      <th>2015-01-07</th>\n",
       "      <td>10051.200195</td>\n",
       "      <td>9836.400391</td>\n",
       "      <td>9937.299805</td>\n",
       "      <td>9891.400391</td>\n",
       "      <td>290122400.0</td>\n",
       "      <td>9891.390625</td>\n",
       "    </tr>\n",
       "    <tr>\n",
       "      <th>2015-01-08</th>\n",
       "      <td>10143.000000</td>\n",
       "      <td>9970.299805</td>\n",
       "      <td>10053.200195</td>\n",
       "      <td>10115.000000</td>\n",
       "      <td>320452300.0</td>\n",
       "      <td>10114.990234</td>\n",
       "    </tr>\n",
       "  </tbody>\n",
       "</table>\n",
       "</div>"
      ],
      "text/plain": [
       "                    High           Low          Open         Close  \\\n",
       "Date                                                                 \n",
       "2015-01-02  10440.299805  10232.299805  10386.700195  10350.799805   \n",
       "2015-01-05  10390.799805   9977.799805  10267.200195   9993.299805   \n",
       "2015-01-06  10060.799805   9871.099609  10040.700195   9871.099609   \n",
       "2015-01-07  10051.200195   9836.400391   9937.299805   9891.400391   \n",
       "2015-01-08  10143.000000   9970.299805  10053.200195  10115.000000   \n",
       "\n",
       "                 Volume     Adj Close  \n",
       "Date                                   \n",
       "2015-01-02  220239700.0  10350.789062  \n",
       "2015-01-05  299610800.0   9993.290039  \n",
       "2015-01-06  282855400.0   9871.089844  \n",
       "2015-01-07  290122400.0   9891.390625  \n",
       "2015-01-08  320452300.0  10114.990234  "
      ]
     },
     "execution_count": 11,
     "metadata": {},
     "output_type": "execute_result"
    }
   ],
   "source": [
    "df_index.head()"
   ]
  },
  {
   "cell_type": "markdown",
   "metadata": {},
   "source": [
    "### Para calcular la Beta necesitamos crear una serie temporal de puntos de datos mensuales"
   ]
  },
  {
   "cell_type": "code",
   "execution_count": 12,
   "metadata": {},
   "outputs": [],
   "source": [
    "df_stock = df_stock.resample('M').last()"
   ]
  },
  {
   "cell_type": "code",
   "execution_count": 13,
   "metadata": {},
   "outputs": [
    {
     "data": {
      "text/html": [
       "<div>\n",
       "<style scoped>\n",
       "    .dataframe tbody tr th:only-of-type {\n",
       "        vertical-align: middle;\n",
       "    }\n",
       "\n",
       "    .dataframe tbody tr th {\n",
       "        vertical-align: top;\n",
       "    }\n",
       "\n",
       "    .dataframe thead th {\n",
       "        text-align: right;\n",
       "    }\n",
       "</style>\n",
       "<table border=\"1\" class=\"dataframe\">\n",
       "  <thead>\n",
       "    <tr style=\"text-align: right;\">\n",
       "      <th></th>\n",
       "      <th>High</th>\n",
       "      <th>Low</th>\n",
       "      <th>Open</th>\n",
       "      <th>Close</th>\n",
       "      <th>Volume</th>\n",
       "      <th>Adj Close</th>\n",
       "    </tr>\n",
       "    <tr>\n",
       "      <th>Date</th>\n",
       "      <th></th>\n",
       "      <th></th>\n",
       "      <th></th>\n",
       "      <th></th>\n",
       "      <th></th>\n",
       "      <th></th>\n",
       "    </tr>\n",
       "  </thead>\n",
       "  <tbody>\n",
       "    <tr>\n",
       "      <th>2015-01-31</th>\n",
       "      <td>13.268001</td>\n",
       "      <td>13.050493</td>\n",
       "      <td>13.243284</td>\n",
       "      <td>13.154304</td>\n",
       "      <td>28201356.0</td>\n",
       "      <td>8.284369</td>\n",
       "    </tr>\n",
       "    <tr>\n",
       "      <th>2015-02-28</th>\n",
       "      <td>13.762338</td>\n",
       "      <td>13.544830</td>\n",
       "      <td>13.693131</td>\n",
       "      <td>13.737621</td>\n",
       "      <td>27297408.0</td>\n",
       "      <td>8.651734</td>\n",
       "    </tr>\n",
       "    <tr>\n",
       "      <th>2015-03-31</th>\n",
       "      <td>13.340000</td>\n",
       "      <td>13.125000</td>\n",
       "      <td>13.330000</td>\n",
       "      <td>13.260000</td>\n",
       "      <td>26050666.0</td>\n",
       "      <td>8.350936</td>\n",
       "    </tr>\n",
       "    <tr>\n",
       "      <th>2015-04-30</th>\n",
       "      <td>13.725000</td>\n",
       "      <td>13.475000</td>\n",
       "      <td>13.590000</td>\n",
       "      <td>13.640000</td>\n",
       "      <td>114188383.0</td>\n",
       "      <td>8.590255</td>\n",
       "    </tr>\n",
       "    <tr>\n",
       "      <th>2015-05-31</th>\n",
       "      <td>13.070000</td>\n",
       "      <td>12.835000</td>\n",
       "      <td>13.025000</td>\n",
       "      <td>12.880000</td>\n",
       "      <td>24680620.0</td>\n",
       "      <td>8.352767</td>\n",
       "    </tr>\n",
       "  </tbody>\n",
       "</table>\n",
       "</div>"
      ],
      "text/plain": [
       "                 High        Low       Open      Close       Volume  Adj Close\n",
       "Date                                                                          \n",
       "2015-01-31  13.268001  13.050493  13.243284  13.154304   28201356.0   8.284369\n",
       "2015-02-28  13.762338  13.544830  13.693131  13.737621   27297408.0   8.651734\n",
       "2015-03-31  13.340000  13.125000  13.330000  13.260000   26050666.0   8.350936\n",
       "2015-04-30  13.725000  13.475000  13.590000  13.640000  114188383.0   8.590255\n",
       "2015-05-31  13.070000  12.835000  13.025000  12.880000   24680620.0   8.352767"
      ]
     },
     "execution_count": 13,
     "metadata": {},
     "output_type": "execute_result"
    }
   ],
   "source": [
    "df_stock.head()"
   ]
  },
  {
   "cell_type": "markdown",
   "metadata": {},
   "source": [
    "Haciendo lo mismo para el indice de referencia"
   ]
  },
  {
   "cell_type": "code",
   "execution_count": 14,
   "metadata": {},
   "outputs": [],
   "source": [
    "df_index = df_index.resample('M').last()"
   ]
  },
  {
   "cell_type": "code",
   "execution_count": 15,
   "metadata": {},
   "outputs": [
    {
     "data": {
      "text/html": [
       "<div>\n",
       "<style scoped>\n",
       "    .dataframe tbody tr th:only-of-type {\n",
       "        vertical-align: middle;\n",
       "    }\n",
       "\n",
       "    .dataframe tbody tr th {\n",
       "        vertical-align: top;\n",
       "    }\n",
       "\n",
       "    .dataframe thead th {\n",
       "        text-align: right;\n",
       "    }\n",
       "</style>\n",
       "<table border=\"1\" class=\"dataframe\">\n",
       "  <thead>\n",
       "    <tr style=\"text-align: right;\">\n",
       "      <th></th>\n",
       "      <th>High</th>\n",
       "      <th>Low</th>\n",
       "      <th>Open</th>\n",
       "      <th>Close</th>\n",
       "      <th>Volume</th>\n",
       "      <th>Adj Close</th>\n",
       "    </tr>\n",
       "    <tr>\n",
       "      <th>Date</th>\n",
       "      <th></th>\n",
       "      <th></th>\n",
       "      <th></th>\n",
       "      <th></th>\n",
       "      <th></th>\n",
       "      <th></th>\n",
       "    </tr>\n",
       "  </thead>\n",
       "  <tbody>\n",
       "    <tr>\n",
       "      <th>2015-01-31</th>\n",
       "      <td>10581.599609</td>\n",
       "      <td>10336.099609</td>\n",
       "      <td>10562.599609</td>\n",
       "      <td>10403.299805</td>\n",
       "      <td>418610700.0</td>\n",
       "      <td>10403.289062</td>\n",
       "    </tr>\n",
       "    <tr>\n",
       "      <th>2015-02-28</th>\n",
       "      <td>11184.500000</td>\n",
       "      <td>11070.799805</td>\n",
       "      <td>11142.900391</td>\n",
       "      <td>11178.299805</td>\n",
       "      <td>412536300.0</td>\n",
       "      <td>11178.288086</td>\n",
       "    </tr>\n",
       "    <tr>\n",
       "      <th>2015-03-31</th>\n",
       "      <td>11596.099609</td>\n",
       "      <td>11444.599609</td>\n",
       "      <td>11510.799805</td>\n",
       "      <td>11521.099609</td>\n",
       "      <td>336270600.0</td>\n",
       "      <td>11521.087891</td>\n",
       "    </tr>\n",
       "    <tr>\n",
       "      <th>2015-04-30</th>\n",
       "      <td>11469.200195</td>\n",
       "      <td>11258.000000</td>\n",
       "      <td>11351.099609</td>\n",
       "      <td>11385.000000</td>\n",
       "      <td>386580900.0</td>\n",
       "      <td>11384.988281</td>\n",
       "    </tr>\n",
       "    <tr>\n",
       "      <th>2015-05-31</th>\n",
       "      <td>11402.700195</td>\n",
       "      <td>11192.099609</td>\n",
       "      <td>11375.599609</td>\n",
       "      <td>11217.599609</td>\n",
       "      <td>327769600.0</td>\n",
       "      <td>11217.587891</td>\n",
       "    </tr>\n",
       "  </tbody>\n",
       "</table>\n",
       "</div>"
      ],
      "text/plain": [
       "                    High           Low          Open         Close  \\\n",
       "Date                                                                 \n",
       "2015-01-31  10581.599609  10336.099609  10562.599609  10403.299805   \n",
       "2015-02-28  11184.500000  11070.799805  11142.900391  11178.299805   \n",
       "2015-03-31  11596.099609  11444.599609  11510.799805  11521.099609   \n",
       "2015-04-30  11469.200195  11258.000000  11351.099609  11385.000000   \n",
       "2015-05-31  11402.700195  11192.099609  11375.599609  11217.599609   \n",
       "\n",
       "                 Volume     Adj Close  \n",
       "Date                                   \n",
       "2015-01-31  418610700.0  10403.289062  \n",
       "2015-02-28  412536300.0  11178.288086  \n",
       "2015-03-31  336270600.0  11521.087891  \n",
       "2015-04-30  386580900.0  11384.988281  \n",
       "2015-05-31  327769600.0  11217.587891  "
      ]
     },
     "execution_count": 15,
     "metadata": {},
     "output_type": "execute_result"
    }
   ],
   "source": [
    "df_index.head()"
   ]
  },
  {
   "cell_type": "markdown",
   "metadata": {},
   "source": [
    "### Para calcular la Beta utilizamos el percentual de variación mes a mes, no el valor de la acción directamente"
   ]
  },
  {
   "cell_type": "code",
   "execution_count": 16,
   "metadata": {},
   "outputs": [],
   "source": [
    "df_stock['returns'] = df_stock['Adj Close']/ df_stock['Adj Close'].shift(1) -1"
   ]
  },
  {
   "cell_type": "code",
   "execution_count": 17,
   "metadata": {},
   "outputs": [
    {
     "data": {
      "text/plain": [
       "Date\n",
       "2015-01-31         NaN\n",
       "2015-02-28    0.044344\n",
       "2015-03-31   -0.034767\n",
       "2015-04-30    0.028658\n",
       "2015-05-31   -0.027646\n",
       "Freq: M, Name: returns, dtype: float64"
      ]
     },
     "execution_count": 17,
     "metadata": {},
     "output_type": "execute_result"
    }
   ],
   "source": [
    "df_stock['returns'].head()"
   ]
  },
  {
   "cell_type": "code",
   "execution_count": 18,
   "metadata": {},
   "outputs": [],
   "source": [
    "df_stock = df_stock.dropna()"
   ]
  },
  {
   "cell_type": "code",
   "execution_count": 19,
   "metadata": {},
   "outputs": [
    {
     "data": {
      "text/plain": [
       "Date\n",
       "2015-02-28    0.044344\n",
       "2015-03-31   -0.034767\n",
       "2015-04-30    0.028658\n",
       "2015-05-31   -0.027646\n",
       "2015-06-30   -0.010093\n",
       "Freq: M, Name: returns, dtype: float64"
      ]
     },
     "execution_count": 19,
     "metadata": {},
     "output_type": "execute_result"
    }
   ],
   "source": [
    "df_stock['returns'].head()"
   ]
  },
  {
   "cell_type": "code",
   "execution_count": 20,
   "metadata": {},
   "outputs": [
    {
     "data": {
      "text/html": [
       "<div>\n",
       "<style scoped>\n",
       "    .dataframe tbody tr th:only-of-type {\n",
       "        vertical-align: middle;\n",
       "    }\n",
       "\n",
       "    .dataframe tbody tr th {\n",
       "        vertical-align: top;\n",
       "    }\n",
       "\n",
       "    .dataframe thead th {\n",
       "        text-align: right;\n",
       "    }\n",
       "</style>\n",
       "<table border=\"1\" class=\"dataframe\">\n",
       "  <thead>\n",
       "    <tr style=\"text-align: right;\">\n",
       "      <th></th>\n",
       "      <th>High</th>\n",
       "      <th>Low</th>\n",
       "      <th>Open</th>\n",
       "      <th>Close</th>\n",
       "      <th>Volume</th>\n",
       "      <th>Adj Close</th>\n",
       "      <th>returns</th>\n",
       "    </tr>\n",
       "    <tr>\n",
       "      <th>Date</th>\n",
       "      <th></th>\n",
       "      <th></th>\n",
       "      <th></th>\n",
       "      <th></th>\n",
       "      <th></th>\n",
       "      <th></th>\n",
       "      <th></th>\n",
       "    </tr>\n",
       "  </thead>\n",
       "  <tbody>\n",
       "    <tr>\n",
       "      <th>2015-02-28</th>\n",
       "      <td>13.762338</td>\n",
       "      <td>13.54483</td>\n",
       "      <td>13.693131</td>\n",
       "      <td>13.737621</td>\n",
       "      <td>27297408.0</td>\n",
       "      <td>8.651734</td>\n",
       "      <td>0.044344</td>\n",
       "    </tr>\n",
       "    <tr>\n",
       "      <th>2015-03-31</th>\n",
       "      <td>13.340000</td>\n",
       "      <td>13.12500</td>\n",
       "      <td>13.330000</td>\n",
       "      <td>13.260000</td>\n",
       "      <td>26050666.0</td>\n",
       "      <td>8.350936</td>\n",
       "      <td>-0.034767</td>\n",
       "    </tr>\n",
       "    <tr>\n",
       "      <th>2015-04-30</th>\n",
       "      <td>13.725000</td>\n",
       "      <td>13.47500</td>\n",
       "      <td>13.590000</td>\n",
       "      <td>13.640000</td>\n",
       "      <td>114188383.0</td>\n",
       "      <td>8.590255</td>\n",
       "      <td>0.028658</td>\n",
       "    </tr>\n",
       "    <tr>\n",
       "      <th>2015-05-31</th>\n",
       "      <td>13.070000</td>\n",
       "      <td>12.83500</td>\n",
       "      <td>13.025000</td>\n",
       "      <td>12.880000</td>\n",
       "      <td>24680620.0</td>\n",
       "      <td>8.352767</td>\n",
       "      <td>-0.027646</td>\n",
       "    </tr>\n",
       "    <tr>\n",
       "      <th>2015-06-30</th>\n",
       "      <td>13.010000</td>\n",
       "      <td>12.73000</td>\n",
       "      <td>12.870000</td>\n",
       "      <td>12.750000</td>\n",
       "      <td>32148269.0</td>\n",
       "      <td>8.268459</td>\n",
       "      <td>-0.010093</td>\n",
       "    </tr>\n",
       "  </tbody>\n",
       "</table>\n",
       "</div>"
      ],
      "text/plain": [
       "                 High       Low       Open      Close       Volume  Adj Close  \\\n",
       "Date                                                                            \n",
       "2015-02-28  13.762338  13.54483  13.693131  13.737621   27297408.0   8.651734   \n",
       "2015-03-31  13.340000  13.12500  13.330000  13.260000   26050666.0   8.350936   \n",
       "2015-04-30  13.725000  13.47500  13.590000  13.640000  114188383.0   8.590255   \n",
       "2015-05-31  13.070000  12.83500  13.025000  12.880000   24680620.0   8.352767   \n",
       "2015-06-30  13.010000  12.73000  12.870000  12.750000   32148269.0   8.268459   \n",
       "\n",
       "             returns  \n",
       "Date                  \n",
       "2015-02-28  0.044344  \n",
       "2015-03-31 -0.034767  \n",
       "2015-04-30  0.028658  \n",
       "2015-05-31 -0.027646  \n",
       "2015-06-30 -0.010093  "
      ]
     },
     "execution_count": 20,
     "metadata": {},
     "output_type": "execute_result"
    }
   ],
   "source": [
    "df_stock.head()"
   ]
  },
  {
   "cell_type": "markdown",
   "metadata": {},
   "source": [
    "Haciendo lo mismo para el indice de referencia"
   ]
  },
  {
   "cell_type": "code",
   "execution_count": 21,
   "metadata": {},
   "outputs": [],
   "source": [
    "df_index['returns'] = df_index['Adj Close']/ df_index['Adj Close'].shift(1) -1\n",
    "df_index = df_index.dropna()\n"
   ]
  },
  {
   "cell_type": "code",
   "execution_count": 22,
   "metadata": {},
   "outputs": [
    {
     "data": {
      "text/html": [
       "<div>\n",
       "<style scoped>\n",
       "    .dataframe tbody tr th:only-of-type {\n",
       "        vertical-align: middle;\n",
       "    }\n",
       "\n",
       "    .dataframe tbody tr th {\n",
       "        vertical-align: top;\n",
       "    }\n",
       "\n",
       "    .dataframe thead th {\n",
       "        text-align: right;\n",
       "    }\n",
       "</style>\n",
       "<table border=\"1\" class=\"dataframe\">\n",
       "  <thead>\n",
       "    <tr style=\"text-align: right;\">\n",
       "      <th></th>\n",
       "      <th>High</th>\n",
       "      <th>Low</th>\n",
       "      <th>Open</th>\n",
       "      <th>Close</th>\n",
       "      <th>Volume</th>\n",
       "      <th>Adj Close</th>\n",
       "      <th>returns</th>\n",
       "    </tr>\n",
       "    <tr>\n",
       "      <th>Date</th>\n",
       "      <th></th>\n",
       "      <th></th>\n",
       "      <th></th>\n",
       "      <th></th>\n",
       "      <th></th>\n",
       "      <th></th>\n",
       "      <th></th>\n",
       "    </tr>\n",
       "  </thead>\n",
       "  <tbody>\n",
       "    <tr>\n",
       "      <th>2015-02-28</th>\n",
       "      <td>11184.500000</td>\n",
       "      <td>11070.799805</td>\n",
       "      <td>11142.900391</td>\n",
       "      <td>11178.299805</td>\n",
       "      <td>412536300.0</td>\n",
       "      <td>11178.288086</td>\n",
       "      <td>0.074496</td>\n",
       "    </tr>\n",
       "    <tr>\n",
       "      <th>2015-03-31</th>\n",
       "      <td>11596.099609</td>\n",
       "      <td>11444.599609</td>\n",
       "      <td>11510.799805</td>\n",
       "      <td>11521.099609</td>\n",
       "      <td>336270600.0</td>\n",
       "      <td>11521.087891</td>\n",
       "      <td>0.030667</td>\n",
       "    </tr>\n",
       "    <tr>\n",
       "      <th>2015-04-30</th>\n",
       "      <td>11469.200195</td>\n",
       "      <td>11258.000000</td>\n",
       "      <td>11351.099609</td>\n",
       "      <td>11385.000000</td>\n",
       "      <td>386580900.0</td>\n",
       "      <td>11384.988281</td>\n",
       "      <td>-0.011813</td>\n",
       "    </tr>\n",
       "    <tr>\n",
       "      <th>2015-05-31</th>\n",
       "      <td>11402.700195</td>\n",
       "      <td>11192.099609</td>\n",
       "      <td>11375.599609</td>\n",
       "      <td>11217.599609</td>\n",
       "      <td>327769600.0</td>\n",
       "      <td>11217.587891</td>\n",
       "      <td>-0.014704</td>\n",
       "    </tr>\n",
       "    <tr>\n",
       "      <th>2015-06-30</th>\n",
       "      <td>10954.500000</td>\n",
       "      <td>10723.200195</td>\n",
       "      <td>10811.599609</td>\n",
       "      <td>10769.500000</td>\n",
       "      <td>369234200.0</td>\n",
       "      <td>10769.489258</td>\n",
       "      <td>-0.039946</td>\n",
       "    </tr>\n",
       "  </tbody>\n",
       "</table>\n",
       "</div>"
      ],
      "text/plain": [
       "                    High           Low          Open         Close  \\\n",
       "Date                                                                 \n",
       "2015-02-28  11184.500000  11070.799805  11142.900391  11178.299805   \n",
       "2015-03-31  11596.099609  11444.599609  11510.799805  11521.099609   \n",
       "2015-04-30  11469.200195  11258.000000  11351.099609  11385.000000   \n",
       "2015-05-31  11402.700195  11192.099609  11375.599609  11217.599609   \n",
       "2015-06-30  10954.500000  10723.200195  10811.599609  10769.500000   \n",
       "\n",
       "                 Volume     Adj Close   returns  \n",
       "Date                                             \n",
       "2015-02-28  412536300.0  11178.288086  0.074496  \n",
       "2015-03-31  336270600.0  11521.087891  0.030667  \n",
       "2015-04-30  386580900.0  11384.988281 -0.011813  \n",
       "2015-05-31  327769600.0  11217.587891 -0.014704  \n",
       "2015-06-30  369234200.0  10769.489258 -0.039946  "
      ]
     },
     "execution_count": 22,
     "metadata": {},
     "output_type": "execute_result"
    }
   ],
   "source": [
    "df_index.head()"
   ]
  },
  {
   "cell_type": "markdown",
   "metadata": {},
   "source": [
    "### Haciendo merge de los 2 dataframes por fecha (el index del dataframe es la fecha) y cogiendo solo las columnas stock_returns y index_returns"
   ]
  },
  {
   "cell_type": "code",
   "execution_count": 23,
   "metadata": {},
   "outputs": [],
   "source": [
    "df = pd.DataFrame({'stock_returns' : df_stock['returns'],\n",
    "                        'index_returns' : df_index['returns']},\n",
    "                        index=df_stock.index)"
   ]
  },
  {
   "cell_type": "code",
   "execution_count": 24,
   "metadata": {},
   "outputs": [
    {
     "data": {
      "text/html": [
       "<div>\n",
       "<style scoped>\n",
       "    .dataframe tbody tr th:only-of-type {\n",
       "        vertical-align: middle;\n",
       "    }\n",
       "\n",
       "    .dataframe tbody tr th {\n",
       "        vertical-align: top;\n",
       "    }\n",
       "\n",
       "    .dataframe thead th {\n",
       "        text-align: right;\n",
       "    }\n",
       "</style>\n",
       "<table border=\"1\" class=\"dataframe\">\n",
       "  <thead>\n",
       "    <tr style=\"text-align: right;\">\n",
       "      <th></th>\n",
       "      <th>stock_returns</th>\n",
       "      <th>index_returns</th>\n",
       "    </tr>\n",
       "    <tr>\n",
       "      <th>Date</th>\n",
       "      <th></th>\n",
       "      <th></th>\n",
       "    </tr>\n",
       "  </thead>\n",
       "  <tbody>\n",
       "    <tr>\n",
       "      <th>2015-02-28</th>\n",
       "      <td>0.044344</td>\n",
       "      <td>0.074496</td>\n",
       "    </tr>\n",
       "    <tr>\n",
       "      <th>2015-03-31</th>\n",
       "      <td>-0.034767</td>\n",
       "      <td>0.030667</td>\n",
       "    </tr>\n",
       "    <tr>\n",
       "      <th>2015-04-30</th>\n",
       "      <td>0.028658</td>\n",
       "      <td>-0.011813</td>\n",
       "    </tr>\n",
       "    <tr>\n",
       "      <th>2015-05-31</th>\n",
       "      <td>-0.027646</td>\n",
       "      <td>-0.014704</td>\n",
       "    </tr>\n",
       "    <tr>\n",
       "      <th>2015-06-30</th>\n",
       "      <td>-0.010093</td>\n",
       "      <td>-0.039946</td>\n",
       "    </tr>\n",
       "  </tbody>\n",
       "</table>\n",
       "</div>"
      ],
      "text/plain": [
       "            stock_returns  index_returns\n",
       "Date                                    \n",
       "2015-02-28       0.044344       0.074496\n",
       "2015-03-31      -0.034767       0.030667\n",
       "2015-04-30       0.028658      -0.011813\n",
       "2015-05-31      -0.027646      -0.014704\n",
       "2015-06-30      -0.010093      -0.039946"
      ]
     },
     "execution_count": 24,
     "metadata": {},
     "output_type": "execute_result"
    }
   ],
   "source": [
    "df.head()"
   ]
  },
  {
   "cell_type": "markdown",
   "metadata": {},
   "source": [
    "Por segurida borramos las filas que no tienen los 2 valores por si hubiera."
   ]
  },
  {
   "cell_type": "code",
   "execution_count": 25,
   "metadata": {},
   "outputs": [],
   "source": [
    "df = df.dropna()"
   ]
  },
  {
   "cell_type": "code",
   "execution_count": 26,
   "metadata": {},
   "outputs": [
    {
     "data": {
      "text/html": [
       "<div>\n",
       "<style scoped>\n",
       "    .dataframe tbody tr th:only-of-type {\n",
       "        vertical-align: middle;\n",
       "    }\n",
       "\n",
       "    .dataframe tbody tr th {\n",
       "        vertical-align: top;\n",
       "    }\n",
       "\n",
       "    .dataframe thead th {\n",
       "        text-align: right;\n",
       "    }\n",
       "</style>\n",
       "<table border=\"1\" class=\"dataframe\">\n",
       "  <thead>\n",
       "    <tr style=\"text-align: right;\">\n",
       "      <th></th>\n",
       "      <th>stock_returns</th>\n",
       "      <th>index_returns</th>\n",
       "    </tr>\n",
       "    <tr>\n",
       "      <th>Date</th>\n",
       "      <th></th>\n",
       "      <th></th>\n",
       "    </tr>\n",
       "  </thead>\n",
       "  <tbody>\n",
       "    <tr>\n",
       "      <th>2015-02-28</th>\n",
       "      <td>0.044344</td>\n",
       "      <td>0.074496</td>\n",
       "    </tr>\n",
       "    <tr>\n",
       "      <th>2015-03-31</th>\n",
       "      <td>-0.034767</td>\n",
       "      <td>0.030667</td>\n",
       "    </tr>\n",
       "    <tr>\n",
       "      <th>2015-04-30</th>\n",
       "      <td>0.028658</td>\n",
       "      <td>-0.011813</td>\n",
       "    </tr>\n",
       "    <tr>\n",
       "      <th>2015-05-31</th>\n",
       "      <td>-0.027646</td>\n",
       "      <td>-0.014704</td>\n",
       "    </tr>\n",
       "    <tr>\n",
       "      <th>2015-06-30</th>\n",
       "      <td>-0.010093</td>\n",
       "      <td>-0.039946</td>\n",
       "    </tr>\n",
       "  </tbody>\n",
       "</table>\n",
       "</div>"
      ],
      "text/plain": [
       "            stock_returns  index_returns\n",
       "Date                                    \n",
       "2015-02-28       0.044344       0.074496\n",
       "2015-03-31      -0.034767       0.030667\n",
       "2015-04-30       0.028658      -0.011813\n",
       "2015-05-31      -0.027646      -0.014704\n",
       "2015-06-30      -0.010093      -0.039946"
      ]
     },
     "execution_count": 26,
     "metadata": {},
     "output_type": "execute_result"
    }
   ],
   "source": [
    "df.head()"
   ]
  },
  {
   "cell_type": "markdown",
   "metadata": {},
   "source": [
    "#### Implementando la función para la covarianza\n",
    "\n",
    "Referencia: http://ci.columbia.edu/ci/premba_test/c0331/s7/s7_5.html"
   ]
  },
  {
   "cell_type": "code",
   "execution_count": 27,
   "metadata": {},
   "outputs": [],
   "source": [
    "def covariance(a, b):\n",
    "    if len(a) != len(b):\n",
    "        return\n",
    "    a_mean = np.mean(a)\n",
    "    b_mean = np.mean(b)\n",
    "    sum = 0\n",
    "    for i in range(0, len(a)):\n",
    "        sum += ((a[i] - a_mean) * (b[i] - b_mean))\n",
    "    return sum/(len(a)-1)"
   ]
  },
  {
   "cell_type": "markdown",
   "metadata": {},
   "source": [
    "Miremos otra vez a la formula de la Beta:\n",
    "    \n",
    "<img src=\"BetaCalculation.png\" width=400 height=400 align=\"center\">"
   ]
  },
  {
   "cell_type": "code",
   "execution_count": 28,
   "metadata": {},
   "outputs": [
    {
     "name": "stdout",
     "output_type": "stream",
     "text": [
      "COVARIANCE(stock, benchmark) = COVARIANCE(TEF.MC, ^IBEX) = 0.002077376478545967\n"
     ]
    }
   ],
   "source": [
    "numerator = covariance(df['stock_returns'],df['index_returns'])\n",
    "print(\"COVARIANCE(stock, benchmark) = COVARIANCE(\"\n",
    "      +ticker_symbol+\", \"+ref_index +\") = \" +str(numerator))"
   ]
  },
  {
   "cell_type": "code",
   "execution_count": 29,
   "metadata": {},
   "outputs": [
    {
     "name": "stdout",
     "output_type": "stream",
     "text": [
      "VARIANCE(benchmark) = COVARIANCE(benchmark, benchmark) = COVARIANCE(^IBEX, ^IBEX) = 0.001965250097421376\n"
     ]
    }
   ],
   "source": [
    "denominator = covariance(df['index_returns'],df['index_returns'])\n",
    "print(\"VARIANCE(benchmark) = COVARIANCE(benchmark, benchmark) = COVARIANCE(\"\n",
    "      +ref_index+\", \"+ref_index +\") = \" +str(denominator))\n"
   ]
  },
  {
   "cell_type": "code",
   "execution_count": 30,
   "metadata": {},
   "outputs": [
    {
     "name": "stdout",
     "output_type": "stream",
     "text": [
      "BETA = COVARIANCE(stock, benchmark) / VARIANCE(benchmark) = 0.002077376478545967 / 0.001965250097421376 = 1.0570545098925135\n"
     ]
    }
   ],
   "source": [
    "# BETA = Covariance (stock,index) / Variance (Index) = Covariance (stock,index) / Covariance (stock,stock)\n",
    "print(\"BETA = COVARIANCE(stock, benchmark) / VARIANCE(benchmark) = \" \n",
    "      + str(numerator) + \" / \" + str(denominator) + \" = \" \n",
    "      +str(covariance(df['stock_returns'],df['index_returns'])\n",
    "           /covariance(df['index_returns'],df['index_returns'])))"
   ]
  },
  {
   "cell_type": "markdown",
   "metadata": {},
   "source": [
    "<img src=\"curso.jpeg\" width=300 height=300 align=\"center\">\n",
    "\n",
    "<img src=\"UNAV.png\" width=100 height=100 align=\"right\">\n",
    "\n",
    "<img src=\"pwc_logo.png\" width=120 height=120 align=\"right\">"
   ]
  },
  {
   "cell_type": "code",
   "execution_count": null,
   "metadata": {},
   "outputs": [],
   "source": [
    "# Librerias\n",
    "# !pip install pandas_datareader\n",
    "# !pip install fix_yahoo_finance"
   ]
  },
  {
   "cell_type": "code",
   "execution_count": 35,
   "metadata": {},
   "outputs": [
    {
     "name": "stdout",
     "output_type": "stream",
     "text": [
      "BETA = COVARIANCE(stock, benchmark) / VARIANCE(benchmark) = 0.0033783371675713617 / 0.003223570949539044 = 1.0480107993448844\n"
     ]
    }
   ],
   "source": [
    "import pandas_datareader.data as web\n",
    "import fix_yahoo_finance as yf\n",
    "from datetime import datetime, timedelta\n",
    "import numpy as np\n",
    "import pandas as pd\n",
    "\n",
    "fecha_final =   datetime.today() \n",
    "fecha_inicial = fecha_final - timedelta(days=5*365) \n",
    "\n",
    "ticker_symbol = 'TEF.MC'\n",
    "ref_index = '^IBEX'\n",
    "df_stock = web.get_data_yahoo(ticker_symbol,fecha_inicial,fecha_final)\n",
    "df_index = web.get_data_yahoo(ref_index,fecha_inicial,fecha_final)\n",
    "df_stock = df_stock.resample('M').last() #wip\n",
    "df_index = df_index.resample('M').last() #wip\n",
    "df_stock['returns'] = df_stock['Adj Close']/ df_stock['Adj Close'].shift(1) -1\n",
    "df_stock = df_stock.dropna()\n",
    "df_index['returns'] = df_index['Adj Close']/ df_index['Adj Close'].shift(1) -1\n",
    "df_index = df_index.dropna()\n",
    "df = pd.DataFrame({'stock_returns' : df_stock['returns'],\n",
    "                        'index_returns' : df_index['returns']},\n",
    "                        index=df_stock.index)\n",
    "df = df.dropna()\n",
    "\n",
    "def covariance(a, b):\n",
    "    if len(a) != len(b):\n",
    "        return\n",
    "    a_mean = np.mean(a)\n",
    "    b_mean = np.mean(b)\n",
    "    sum = 0\n",
    "    for i in range(0, len(a)):\n",
    "        sum += ((a[i] - a_mean) * (b[i] - b_mean))\n",
    "    return sum/(len(a)-1)\n",
    "\n",
    "numerator = covariance(df['stock_returns'],df['index_returns'])\n",
    "denominator = covariance(df['index_returns'],df['index_returns'])\n",
    "\n",
    "print(\"BETA = COVARIANCE(stock, benchmark) / VARIANCE(benchmark) = \" \n",
    "      + str(numerator) + \" / \" + str(denominator) + \" = \" \n",
    "      +str(covariance(df['stock_returns'],df['index_returns'])\n",
    "           /covariance(df['index_returns'],df['index_returns'])))"
   ]
  },
  {
   "cell_type": "code",
   "execution_count": 56,
   "metadata": {},
   "outputs": [],
   "source": [
    "def calcula_beta(ticker_symbol = 'TEF.MC', ref_index = '^IBEX'):\n",
    "    \"\"\"\n",
    "    Esta función devuelve la beta mensual de 5 años del mercado entre una acción y un índice de referencia. \n",
    "    \"\"\"\n",
    "    import pandas_datareader.data as web\n",
    "    import fix_yahoo_finance as yf\n",
    "    from datetime import datetime, timedelta\n",
    "    import numpy as np\n",
    "    import pandas as pd\n",
    "\n",
    "\n",
    "    fecha_final =   datetime.today() \n",
    "    fecha_inicial = fecha_final - timedelta(days=5*365) \n",
    "    try:\n",
    "        df_stock = web.get_data_yahoo(ticker_symbol,fecha_inicial,fecha_final)\n",
    "        df_index = web.get_data_yahoo(ref_index,fecha_inicial,fecha_final)\n",
    "    except:\n",
    "        return(\"Problema de conexión con Yahoo. Hablar con Tecnología.\")\n",
    "    \n",
    "    df_stock = df_stock.resample('M').last() #wip\n",
    "    df_index = df_index.resample('M').last() #wip\n",
    "    df_stock['returns'] = df_stock['Adj Close']/ df_stock['Adj Close'].shift(1) -1\n",
    "    df_stock = df_stock.dropna()\n",
    "    df_index['returns'] = df_index['Adj Close']/ df_index['Adj Close'].shift(1) -1\n",
    "    df_index = df_index.dropna()\n",
    "    df = pd.DataFrame({'stock_returns' : df_stock['returns'],\n",
    "                            'index_returns' : df_index['returns']},\n",
    "                            index=df_stock.index)\n",
    "    df = df.dropna()\n",
    "\n",
    "    def covariance(a, b):\n",
    "        if len(a) != len(b):\n",
    "            return\n",
    "        a_mean = np.mean(a)\n",
    "        b_mean = np.mean(b)\n",
    "        sum = 0\n",
    "        for i in range(0, len(a)):\n",
    "            sum += ((a[i] - a_mean) * (b[i] - b_mean))\n",
    "        return sum/(len(a)-1)\n",
    "\n",
    "    numerator = covariance(df['stock_returns'],df['index_returns'])\n",
    "    denominator = covariance(df['index_returns'],df['index_returns'])\n",
    "    try:\n",
    "        return(numerator/denominator)\n",
    "    except:\n",
    "        return(\"El índice tiene covarianza 0. División por 0.\")"
   ]
  },
  {
   "cell_type": "code",
   "execution_count": 57,
   "metadata": {},
   "outputs": [
    {
     "name": "stdout",
     "output_type": "stream",
     "text": [
      "Help on function calcula_beta in module __main__:\n",
      "\n",
      "calcula_beta(ticker_symbol='TEF.MC', ref_index='^IBEX')\n",
      "    Esta función devuelve la beta mensual de 5 años del mercado entre una acción y un índice de referencia.\n",
      "\n"
     ]
    }
   ],
   "source": [
    "help(calcula_beta)"
   ]
  },
  {
   "cell_type": "code",
   "execution_count": 53,
   "metadata": {},
   "outputs": [
    {
     "data": {
      "text/plain": [
       "1.3865883310320064"
      ]
     },
     "execution_count": 53,
     "metadata": {},
     "output_type": "execute_result"
    }
   ],
   "source": [
    "calcula_beta(\"REP.MC\")"
   ]
  },
  {
   "cell_type": "code",
   "execution_count": 54,
   "metadata": {},
   "outputs": [
    {
     "data": {
      "text/plain": [
       "1.0649951614980124"
      ]
     },
     "execution_count": 54,
     "metadata": {},
     "output_type": "execute_result"
    }
   ],
   "source": [
    "calcula_beta(\"GOOG\", \"SPY\")"
   ]
  },
  {
   "cell_type": "code",
   "execution_count": 55,
   "metadata": {},
   "outputs": [
    {
     "data": {
      "text/plain": [
       "'ERROR.'"
      ]
     },
     "execution_count": 55,
     "metadata": {},
     "output_type": "execute_result"
    }
   ],
   "source": [
    "calcula_beta(\"ASD\")"
   ]
  },
  {
   "cell_type": "code",
   "execution_count": null,
   "metadata": {},
   "outputs": [],
   "source": []
  }
 ],
 "metadata": {
  "kernelspec": {
   "display_name": "Python 3 (ipykernel)",
   "language": "python",
   "name": "python3"
  },
  "language_info": {
   "codemirror_mode": {
    "name": "ipython",
    "version": 3
   },
   "file_extension": ".py",
   "mimetype": "text/x-python",
   "name": "python",
   "nbconvert_exporter": "python",
   "pygments_lexer": "ipython3",
   "version": "3.9.7"
  }
 },
 "nbformat": 4,
 "nbformat_minor": 2
}
